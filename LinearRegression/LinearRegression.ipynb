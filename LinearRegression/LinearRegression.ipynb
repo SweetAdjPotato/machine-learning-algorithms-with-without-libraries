{
 "cells": [
  {
   "cell_type": "markdown",
   "metadata": {},
   "source": [
    "### Linear Regression\n",
    "\n",
    "🔸 Linear regression predicts a real value output based on the input value. \n",
    "* Simple linear regression only has one input/variable and we try to fit a line to best describe the output and input relationship\n",
    "* Multiple linear regression has multiple variables as input and we try to fit a hyperplane instead.\n",
    "\n",
    "🔸 A example of simple linear regression is salary prediction, with the salary as output, and years of working experience as input variable.\n",
    "\n",
    "🔸 The algorithm can be used for simple linear regression or multiple linear regression, and in this notebook, it will be implemented for simple linear regression with both gradient descent and normal equation method.\n",
    "\n",
    "🔸 In this notebook, the linear regression algorithm is coded step by step following:\n",
    "\n",
    "<img src=\"code_steps.png\"/> "
   ]
  },
  {
   "cell_type": "markdown",
   "metadata": {},
   "source": [
    "### Import libraries"
   ]
  },
  {
   "cell_type": "code",
   "execution_count": 1,
   "metadata": {},
   "outputs": [],
   "source": [
    "import pandas as pd\n",
    "import numpy as np\n",
    "import matplotlib.pyplot as plt\n",
    "%matplotlib inline"
   ]
  },
  {
   "cell_type": "markdown",
   "metadata": {},
   "source": [
    "### Coding the algorithm"
   ]
  },
  {
   "cell_type": "code",
   "execution_count": 2,
   "metadata": {},
   "outputs": [],
   "source": [
    "class LinearRegression():\n",
    "    def __init__(self, x, y):\n",
    "        x0 = np.ones(x.shape) # add the bias term\n",
    "        x = np.append(x0, x, axis=1) # append the bias to the input variable\n",
    "        self.x = x\n",
    "        self.y = y\n",
    "        self.m = x.shape[0]\n",
    "        self.n = x.shape[1]\n",
    "        self.theta = np.random.randn(self.n) # initialize the weights with random numbers\n",
    "        \n",
    "    def CostFunction(self):\n",
    "        self.h = np.matmul(self.x, self.theta) # calculate the hypothesis h = x*theta\n",
    "        self.J = (1/(2*self.m))*np.sum((self.h-self.y)**2) # cost function\n",
    "        return self.h, self.J\n",
    "    \n",
    "    def GradientDescent(self, epoch=10, alpha=0.01):\n",
    "        self.cost_history = []\n",
    "        self.theta_history = []\n",
    "        for i in range(epoch):\n",
    "            h, J = self.CostFunction()\n",
    "            self.cost_history.append(J)\n",
    "            self.theta_history.append(self.theta)\n",
    "            self.theta = self.theta - alpha / self.m * np.dot(self.x.T, h-self.y)\n",
    "        pass\n",
    "    \n",
    "    def Theta(self):\n",
    "        return self.theta\n",
    "    \n",
    "    def CostHistory(self):\n",
    "        return self.cost_history\n",
    "    \n",
    "    def ThetaHistory(self):\n",
    "        return self.theta_history\n",
    "    \n",
    "    def predict(self, x_test, y_test):\n",
    "        x0 = np.ones(x_test.shape)\n",
    "        x_test = np.append(x0, x_test, axis=1)\n",
    "        self.y_pred = np.matmul(x_test, self.theta)\n",
    "        self.test_error = (abs(self.y_pred-y_test)/y_test)*100\n",
    "        return self.y_pred, self.test_error\n",
    "    \n",
    "    def NormalEquationPredict(self, x_test, y_test):\n",
    "        x0 = np.ones(x_test.shape)\n",
    "        x_test = np.append(x0, x_test, axis=1)\n",
    "        inv = np.linalg.inv(np.matmul(self.x.T, self.x))\n",
    "        self.optimal_theta = np.matmul(np.matmul(inv, self.x.T), self.y)\n",
    "        self.y_pred = np.matmul(x_test, self.optimal_theta)\n",
    "        self.test_error = (abs(self.y_pred-y_test)/y_test)*100\n",
    "        return self.y_pred, self.test_error, self.optimal_theta\n",
    "            "
   ]
  },
  {
   "cell_type": "code",
   "execution_count": null,
   "metadata": {},
   "outputs": [],
   "source": [
    "# feature scaling is not used in this notebook, coded for fun. \n",
    "class FeatureScaler():\n",
    "    def __init__(self, x):\n",
    "        self.x = x.copy().astype(float)\n",
    "    def FitTransform(self):\n",
    "        n = self.x.shape[1]\n",
    "        for i in range(n):\n",
    "            xi = self.x[:,i]\n",
    "            xi_scaled = (xi - xi.mean()) / (xi.max() - xi.min())\n",
    "            self.x[:,i] = xi_scaled\n",
    "        return self.x"
   ]
  },
  {
   "cell_type": "markdown",
   "metadata": {},
   "source": [
    "### Read data"
   ]
  },
  {
   "cell_type": "code",
   "execution_count": 3,
   "metadata": {},
   "outputs": [],
   "source": [
    "df = pd.read_csv('Salary_Data.csv')\n",
    "# shuffle data\n",
    "df = df.sample(frac=1, random_state=42).reset_index(drop=True)"
   ]
  },
  {
   "cell_type": "code",
   "execution_count": 4,
   "metadata": {
    "scrolled": true
   },
   "outputs": [
    {
     "data": {
      "text/html": [
       "<div>\n",
       "<style scoped>\n",
       "    .dataframe tbody tr th:only-of-type {\n",
       "        vertical-align: middle;\n",
       "    }\n",
       "\n",
       "    .dataframe tbody tr th {\n",
       "        vertical-align: top;\n",
       "    }\n",
       "\n",
       "    .dataframe thead th {\n",
       "        text-align: right;\n",
       "    }\n",
       "</style>\n",
       "<table border=\"1\" class=\"dataframe\">\n",
       "  <thead>\n",
       "    <tr style=\"text-align: right;\">\n",
       "      <th></th>\n",
       "      <th>YearsExperience</th>\n",
       "      <th>Salary</th>\n",
       "    </tr>\n",
       "  </thead>\n",
       "  <tbody>\n",
       "    <tr>\n",
       "      <th>0</th>\n",
       "      <td>9.6</td>\n",
       "      <td>112635.0</td>\n",
       "    </tr>\n",
       "    <tr>\n",
       "      <th>1</th>\n",
       "      <td>4.9</td>\n",
       "      <td>67938.0</td>\n",
       "    </tr>\n",
       "    <tr>\n",
       "      <th>2</th>\n",
       "      <td>8.2</td>\n",
       "      <td>113812.0</td>\n",
       "    </tr>\n",
       "    <tr>\n",
       "      <th>3</th>\n",
       "      <td>5.3</td>\n",
       "      <td>83088.0</td>\n",
       "    </tr>\n",
       "    <tr>\n",
       "      <th>4</th>\n",
       "      <td>3.2</td>\n",
       "      <td>64445.0</td>\n",
       "    </tr>\n",
       "  </tbody>\n",
       "</table>\n",
       "</div>"
      ],
      "text/plain": [
       "   YearsExperience    Salary\n",
       "0              9.6  112635.0\n",
       "1              4.9   67938.0\n",
       "2              8.2  113812.0\n",
       "3              5.3   83088.0\n",
       "4              3.2   64445.0"
      ]
     },
     "execution_count": 4,
     "metadata": {},
     "output_type": "execute_result"
    }
   ],
   "source": [
    "df.head()"
   ]
  },
  {
   "cell_type": "code",
   "execution_count": 5,
   "metadata": {
    "scrolled": false
   },
   "outputs": [
    {
     "data": {
      "image/png": "[encoded data removed]",
      "text/plain": [
       "<Figure size 576x432 with 1 Axes>"
      ]
     },
     "metadata": {
      "needs_background": "light"
     },
     "output_type": "display_data"
    }
   ],
   "source": [
    "# visualize data\n",
    "fig = plt.figure(figsize=(8,6))\n",
    "plt.scatter(df.iloc[:,0], df.iloc[:,1], c='b')\n",
    "plt.title('Salary vs. Years of Experience', fontsize=14)\n",
    "plt.xlabel('Years of Experience', fontsize=12)\n",
    "plt.ylabel('Salary', fontsize=12)\n",
    "plt.show()"
   ]
  },
  {
   "cell_type": "markdown",
   "metadata": {},
   "source": [
    "### Split data to train and test dataset"
   ]
  },
  {
   "cell_type": "code",
   "execution_count": 6,
   "metadata": {},
   "outputs": [],
   "source": [
    "x = np.array(df.iloc[:,0:1])\n",
    "y = np.array(df.iloc[:,1])"
   ]
  },
  {
   "cell_type": "code",
   "execution_count": 7,
   "metadata": {},
   "outputs": [],
   "source": [
    "train_frac = 0.7\n",
    "train_size = int(df.shape[0] * train_frac)\n",
    "x_train = x[0:train_size,:]\n",
    "y_train = y[0:train_size]\n",
    "x_test = x[train_size:,:]\n",
    "y_test = y[train_size:]"
   ]
  },
  {
   "cell_type": "code",
   "execution_count": 8,
   "metadata": {},
   "outputs": [
    {
     "name": "stdout",
     "output_type": "stream",
     "text": [
      "training size is 21\n",
      "test size is 9\n"
     ]
    }
   ],
   "source": [
    "print ('training size is {}\\ntest size is {}'.format(x_train.shape[0], x_test.shape[0]))"
   ]
  },
  {
   "cell_type": "markdown",
   "metadata": {},
   "source": [
    "### Initialize the model"
   ]
  },
  {
   "cell_type": "code",
   "execution_count": 9,
   "metadata": {},
   "outputs": [],
   "source": [
    "lr = LinearRegression(x_train, y_train)"
   ]
  },
  {
   "cell_type": "markdown",
   "metadata": {},
   "source": [
    "### Predict using normal equation method"
   ]
  },
  {
   "cell_type": "code",
   "execution_count": 10,
   "metadata": {},
   "outputs": [
    {
     "name": "stdout",
     "output_type": "stream",
     "text": [
      "y_test [116969.0 81363.0 121872.0 91738.0 54445.0 63218.0 61111.0 93940.0 60150.0]\n",
      "\n",
      "y_pred_test [115224.5 81135.1 124693.7 89657.4 55568.1 62196.6 67878.1 82082.0 53674.2]\n",
      "\n",
      "test error (%) [1.5 0.3 2.3 2.3 2.1 1.6 11.1 12.6 10.8]\n",
      "\n",
      "optimal theta [25266.4 9469.3]\n"
     ]
    }
   ],
   "source": [
    "\n",
    "y_pred_train_NE, train_error_NE, optimal_theta = lr.NormalEquationPredict(x_train, y_train)\n",
    "y_pred_test_NE, test_error_NE,_ = lr.NormalEquationPredict(x_test, y_test)\n",
    "np.set_printoptions(formatter={'float': lambda x: \"{0:0.01f}\".format(x)})\n",
    "print('y_test {}\\n\\ny_pred_test {}\\n\\ntest error (%) {}\\n\\noptimal theta {}'\n",
    "      .format(y_test, y_pred_test_NE, test_error_NE, optimal_theta))"
   ]
  },
  {
   "cell_type": "markdown",
   "metadata": {},
   "source": [
    "### Predict using gradient descent method"
   ]
  },
  {
   "cell_type": "code",
   "execution_count": 11,
   "metadata": {},
   "outputs": [],
   "source": [
    "\n",
    "epoch = 200\n",
    "alpha = 0.05\n",
    "lr.GradientDescent(epoch, alpha)\n",
    "y_pred_train, train_error = lr.predict(x_train,y_train)\n",
    "y_pred_test, test_error = lr.predict(x_test,y_test)\n",
    "theta = lr.Theta()"
   ]
  },
  {
   "cell_type": "code",
   "execution_count": 12,
   "metadata": {},
   "outputs": [
    {
     "name": "stdout",
     "output_type": "stream",
     "text": [
      "y_test [116969.0 81363.0 121872.0 91738.0 54445.0 63218.0 61111.0 93940.0 60150.0]\n",
      "\n",
      "y_pred_test [116148.1 80900.9 125939.0 89712.7 54465.4 61319.0 67193.6 81880.0 52507.2]\n",
      "\n",
      "test error (%) [0.7 0.6 3.3 2.2 0.0 3.0 10.0 12.8 12.7]\n",
      "\n",
      "theta [23134.5 9790.9]\n"
     ]
    }
   ],
   "source": [
    "# print the test data, predicted test data and the error\n",
    "print('y_test {}\\n\\ny_pred_test {}\\n\\ntest error (%) {}\\n\\ntheta {}'\n",
    "      .format(y_test, y_pred_test, test_error, theta))"
   ]
  },
  {
   "cell_type": "markdown",
   "metadata": {},
   "source": [
    "### Visulize cost vs epochs"
   ]
  },
  {
   "cell_type": "code",
   "execution_count": 13,
   "metadata": {
    "scrolled": false
   },
   "outputs": [
    {
     "data": {
      "image/png": "[encoded data removed]",
      "text/plain": [
       "<Figure size 576x432 with 1 Axes>"
      ]
     },
     "metadata": {
      "needs_background": "light"
     },
     "output_type": "display_data"
    }
   ],
   "source": [
    "cost = lr.CostHistory()\n",
    "fig = plt.figure(figsize=(8,6))\n",
    "plt.plot(range(epoch), cost, c='b')\n",
    "plt.title('Cost vs. No. of Epochs', fontsize=14)\n",
    "plt.xlabel('No. of Epochs', fontsize=12)\n",
    "plt.ylabel('Cost', fontsize=12)\n",
    "plt.show()"
   ]
  },
  {
   "cell_type": "markdown",
   "metadata": {},
   "source": [
    "### Visulize fitted results using both method"
   ]
  },
  {
   "cell_type": "code",
   "execution_count": 14,
   "metadata": {},
   "outputs": [
    {
     "data": {
      "image/png": "[encoded data removed]",
      "text/plain": [
       "<Figure size 576x432 with 1 Axes>"
      ]
     },
     "metadata": {
      "needs_background": "light"
     },
     "output_type": "display_data"
    }
   ],
   "source": [
    "fig = plt.figure(figsize=(8,6))\n",
    "plt.scatter(df.iloc[:,0], df.iloc[:,1], c='b')\n",
    "plt.plot(x_train, y_pred_train, c='r', lw=2)\n",
    "plt.plot(x_train, y_pred_train_NE, c='g', lw=2)\n",
    "plt.title('', fontsize=14)\n",
    "plt.xlabel('Years of Experience', fontsize=12)\n",
    "plt.ylabel('Salary', fontsize=12)\n",
    "plt.legend(['Gradient Descent fitted line','Normal equation sloved line'], fontsize=12)\n",
    "plt.show()"
   ]
  },
  {
   "cell_type": "code",
   "execution_count": null,
   "metadata": {},
   "outputs": [],
   "source": []
  }
 ],
 "metadata": {
  "kernelspec": {
   "display_name": "Python 3",
   "language": "python",
   "name": "python3"
  },
  "language_info": {
   "codemirror_mode": {
    "name": "ipython",
    "version": 3
   },
   "file_extension": ".py",
   "mimetype": "text/x-python",
   "name": "python",
   "nbconvert_exporter": "python",
   "pygments_lexer": "ipython3",
   "version": "3.7.7"
  }
 },
 "nbformat": 4,
 "nbformat_minor": 4
}
